{
 "cells": [
  {
   "cell_type": "code",
   "execution_count": 1,
   "metadata": {},
   "outputs": [],
   "source": [
    "import os\n",
    "from langchain.document_loaders import PyPDFDirectoryLoader, CSVLoader, JSONLoader\n",
    "from langchain.text_splitter import CharacterTextSplitter"
   ]
  },
  {
   "cell_type": "code",
   "execution_count": 2,
   "metadata": {},
   "outputs": [],
   "source": [
    "def load_documents(data_path):\n",
    "  \"\"\"\n",
    "  Load documents from different file formats in specified subdirectories.\n",
    "\n",
    "  Args:\n",
    "    data_path: The root directory containing subdirectories for different file types.\n",
    "\n",
    "  Returns:\n",
    "    List of Document objects: Loaded documents from all supported file formats.\n",
    "  \"\"\"\n",
    "  documents = []\n",
    "\n",
    "  # PDF files\n",
    "  pdf_path = os.path.join(data_path, \"raw_data\", \"PDF Files\")\n",
    "  if os.path.exists(pdf_path):\n",
    "    pdf_loader = PyPDFDirectoryLoader(pdf_path)\n",
    "    documents.extend(pdf_loader.load())\n",
    "\n",
    "  # CSV files\n",
    "  csv_path = os.path.join(data_path, \"raw_data\", \"CSV Files\")\n",
    "  if os.path.exists(csv_path):\n",
    "    csv_loader = CSVLoader(csv_path)\n",
    "    documents.extend(csv_loader.load())\n",
    "\n",
    "  # JSON file\n",
    "  json_path = os.path.join(data_path, \"raw_data\", \"JSON Files\")\n",
    "  if os.path.exists(json_path):\n",
    "    json_loader = JSONLoader(json_path)\n",
    "    documents.extend(json_loader.load())\n",
    "\n",
    "  return documents\n"
   ]
  },
  {
   "cell_type": "code",
   "execution_count": 3,
   "metadata": {},
   "outputs": [],
   "source": [
    "def save_documents(documents):\n",
    "    \"\"\"\n",
    "    Save documents as text files in the specified output directory.\n",
    "    \"\"\"\n",
    "    os.makedirs(PROCESSED_DATA_PATH, exist_ok=True)\n",
    "    for i, doc in enumerate(documents):\n",
    "        with open(os.path.join(PROCESSED_DATA_PATH, f\"document_{i}.txt\"), \"w\") as f:\n",
    "            f.write(doc.page_content)"
   ]
  },
  {
   "cell_type": "code",
   "execution_count": 4,
   "metadata": {},
   "outputs": [],
   "source": [
    "DATA_PATH = \"data/\"\n",
    "PROCESSED_DATA_PATH = \"data/processed_data/documents\"\n",
    "documents = load_documents(DATA_PATH)\n",
    "# print(documents[0])\n",
    "save_documents(documents)"
   ]
  },
  {
   "cell_type": "code",
   "execution_count": null,
   "metadata": {},
   "outputs": [],
   "source": []
  },
  {
   "cell_type": "code",
   "execution_count": null,
   "metadata": {},
   "outputs": [],
   "source": []
  }
 ],
 "metadata": {
  "kernelspec": {
   "display_name": "chatbotenv",
   "language": "python",
   "name": "python3"
  },
  "language_info": {
   "codemirror_mode": {
    "name": "ipython",
    "version": 3
   },
   "file_extension": ".py",
   "mimetype": "text/x-python",
   "name": "python",
   "nbconvert_exporter": "python",
   "pygments_lexer": "ipython3",
   "version": "3.11.5"
  }
 },
 "nbformat": 4,
 "nbformat_minor": 2
}
